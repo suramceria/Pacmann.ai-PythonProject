{
 "cells": [
  {
   "cell_type": "code",
   "execution_count": 1,
   "id": "1e34ad12",
   "metadata": {},
   "outputs": [],
   "source": [
    "from supercashier import *"
   ]
  },
  {
   "cell_type": "code",
   "execution_count": 2,
   "id": "1bb731d5",
   "metadata": {},
   "outputs": [],
   "source": [
    "# Input ID Transaksi\n",
    "id_1 = Transaction(\"Yudis\")"
   ]
  },
  {
   "cell_type": "code",
   "execution_count": 3,
   "id": "bce2d45e",
   "metadata": {},
   "outputs": [
    {
     "name": "stdout",
     "output_type": "stream",
     "text": [
      "         Nama item Jumlah item Harga item  Total harga\n",
      "1      Ayam Goreng         2.0    20000.0      40000.0\n",
      "Total            -           -          -      40000.0\n",
      "Item Ayam Goreng telah ditambahkan ke dalam daftar pesanan.\n",
      "         Nama item Jumlah item Harga item  Total harga\n",
      "1      Ayam Goreng         2.0    20000.0      40000.0\n",
      "2       Pasta Gigi         3.0    15000.0      45000.0\n",
      "Total            -           -          -      85000.0\n",
      "Item Pasta Gigi telah ditambahkan ke dalam daftar pesanan.\n"
     ]
    }
   ],
   "source": [
    "# Tes 1: add_item()\n",
    "id_1.add_item(\"Ayam Goreng\", 2, 20_000)\n",
    "id_1.add_item(\"Pasta Gigi\", 3, 15_000)"
   ]
  },
  {
   "cell_type": "code",
   "execution_count": 4,
   "id": "ae0145e3",
   "metadata": {},
   "outputs": [
    {
     "name": "stdout",
     "output_type": "stream",
     "text": [
      "         Nama item Jumlah item Harga item  Total harga\n",
      "1      Ayam Goreng         2.0    20000.0      40000.0\n",
      "Total            -           -          -      40000.0\n",
      "Item Pasta Gigi telah dihapus dari daftar pesanan.\n"
     ]
    }
   ],
   "source": [
    "#Tes 2: delete_item()\n",
    "id_1.delete_item(\"Pasta Gigi\")"
   ]
  },
  {
   "cell_type": "code",
   "execution_count": 5,
   "id": "1582cfc6",
   "metadata": {},
   "outputs": [
    {
     "name": "stdout",
     "output_type": "stream",
     "text": [
      "\n",
      "Semua pesanan sudah dikosongkan.\n"
     ]
    }
   ],
   "source": [
    "#Tes 3: reset_transaction()\n",
    "id_1.reset_transaction(\"Yudis\")"
   ]
  },
  {
   "cell_type": "code",
   "execution_count": 6,
   "id": "f4e0cb25",
   "metadata": {},
   "outputs": [
    {
     "name": "stdout",
     "output_type": "stream",
     "text": [
      "      Nama item Jumlah item Harga item  Total harga\n",
      "Total         -           -          -          0.0\n",
      "Jumlah & harga item sudah sesuai.\n"
     ]
    }
   ],
   "source": [
    "#Memastikan transaksi sudah di-reset\n",
    "id_1.check_order(\"Yudis\")"
   ]
  },
  {
   "cell_type": "code",
   "execution_count": 7,
   "id": "681db057",
   "metadata": {},
   "outputs": [
    {
     "name": "stdout",
     "output_type": "stream",
     "text": [
      "\n",
      "Pesanan atas nama: Yudis\n",
      "Maaf, nominal belanja Anda belum memenuhi kriteria mendapatkan diskon. (min. Rp. 200,100)\n",
      "Harga yang harus Anda bayar sebesar:2 Rp. 0.0.\n"
     ]
    }
   ],
   "source": [
    "#Tes 4: total_price()\n",
    "id_1.total_price(\"Yudis\")"
   ]
  },
  {
   "cell_type": "code",
   "execution_count": 8,
   "id": "5d1c3e52",
   "metadata": {},
   "outputs": [
    {
     "name": "stdout",
     "output_type": "stream",
     "text": [
      "          Nama item Jumlah item Harga item  Total harga\n",
      "1      Ayam Kampung        20.0    85000.0    1700000.0\n",
      "Total             -           -          -    1700000.0\n",
      "Item Ayam Kampung telah ditambahkan ke dalam daftar pesanan.\n",
      "          Nama item Jumlah item Harga item  Total harga\n",
      "1      Ayam Kampung        20.0    85000.0    1700000.0\n",
      "2           Kambing        10.0  6000000.0   60000000.0\n",
      "Total             -           -          -   61700000.0\n",
      "Item Kambing telah ditambahkan ke dalam daftar pesanan.\n",
      "          Nama item Jumlah item Harga item  Total harga\n",
      "1      Ayam Kampung        20.0    85000.0    1700000.0\n",
      "2           Kambing        10.0  6000000.0   60000000.0\n",
      "3              Lele       500.0     2500.0    1250000.0\n",
      "Total             -           -          -   62950000.0\n",
      "Item Lele telah ditambahkan ke dalam daftar pesanan.\n"
     ]
    }
   ],
   "source": [
    "id_1.add_item(\"Ayam Kampung\", 20, 85_000)\n",
    "id_1.add_item(\"Kambing\", 10, 6_000_000)\n",
    "id_1.add_item(\"Lele\", 500, 2_500)"
   ]
  },
  {
   "cell_type": "code",
   "execution_count": 9,
   "id": "12977307",
   "metadata": {},
   "outputs": [
    {
     "name": "stdout",
     "output_type": "stream",
     "text": [
      "          Nama item Jumlah item Harga item  Total harga\n",
      "1      Ayam Kampung        20.0    85000.0    1700000.0\n",
      "2           Kambing        10.0  6000000.0   60000000.0\n",
      "3              Lele       500.0     2500.0    1250000.0\n",
      "Total             -           -          -   62950000.0\n",
      "Jumlah & harga item sudah sesuai.\n"
     ]
    }
   ],
   "source": [
    "#Tes 5: check_order()\n",
    "id_1.check_order(\"Yudis\")"
   ]
  },
  {
   "cell_type": "code",
   "execution_count": 10,
   "id": "8baa5e41",
   "metadata": {},
   "outputs": [
    {
     "name": "stdout",
     "output_type": "stream",
     "text": [
      "          Nama item Jumlah item  Harga item  Total harga\n",
      "1      Ayam Kampung        20.0     85000.0    1700000.0\n",
      "2           Kambing        10.0   6000000.0   60000000.0\n",
      "3              Lele       500.0      2500.0    1250000.0\n",
      "4              Sapi       -20.0  15000000.0 -300000000.0\n",
      "Total             -           -           - -237050000.0\n",
      "Item Sapi telah ditambahkan ke dalam daftar pesanan.\n",
      "          Nama item Jumlah item  Harga item  Total harga\n",
      "1      Ayam Kampung        20.0     85000.0    1700000.0\n",
      "2           Kambing        10.0   6000000.0   60000000.0\n",
      "3              Lele       500.0      2500.0    1250000.0\n",
      "4              Sapi       -20.0  15000000.0 -300000000.0\n",
      "Total             -           -           - -237050000.0\n",
      "Warning: Jumlah item tidak boleh minus!\n"
     ]
    }
   ],
   "source": [
    "#Tes 6: check_order() jika ada nilai belanja anomali (misal jumlah minus)\n",
    "id_1.add_item(\"Sapi\", -20, 15_000_000)\n",
    "id_1.check_order(\"Yudis\")"
   ]
  },
  {
   "cell_type": "code",
   "execution_count": 11,
   "id": "96654a17",
   "metadata": {},
   "outputs": [
    {
     "name": "stdout",
     "output_type": "stream",
     "text": [
      "          Nama item Jumlah item  Harga item  Total harga\n",
      "1      Ayam Kampung        20.0     85000.0    1700000.0\n",
      "2           Kambing        10.0   6000000.0   60000000.0\n",
      "3              Lele       500.0      2500.0    1250000.0\n",
      "4              Sapi       -20.0 -15000000.0  300000000.0\n",
      "Total             -           -           -  362950000.0\n",
      "Harga item Sapi telah diubah menjadi sebesar Rp. -15,000,000.\n",
      "          Nama item Jumlah item  Harga item  Total harga\n",
      "1      Ayam Kampung        20.0     85000.0    1700000.0\n",
      "2           Kambing        10.0   6000000.0   60000000.0\n",
      "3              Lele       500.0      2500.0    1250000.0\n",
      "4              Sapi       -20.0 -15000000.0  300000000.0\n",
      "Total             -           -           -  362950000.0\n",
      "Warning: Jumlah item tidak boleh minus!\n",
      "Warning: Harga item tidak boleh minus!\n"
     ]
    }
   ],
   "source": [
    "#Tes 7: update_item_price & check_order(), jika ada harga minus\n",
    "id_1.update_item_price(\"Sapi\", -15_000_000)\n",
    "id_1.check_order(\"Yudis\")"
   ]
  },
  {
   "cell_type": "code",
   "execution_count": 12,
   "id": "8fbc93d8",
   "metadata": {},
   "outputs": [
    {
     "name": "stdout",
     "output_type": "stream",
     "text": [
      "            Nama item Jumlah item  Harga item  Total harga\n",
      "1        Ayam Kampung        20.0     85000.0    1700000.0\n",
      "2      Kambing Ettawa        10.0   6000000.0   60000000.0\n",
      "3                Lele       500.0      2500.0    1250000.0\n",
      "4                Sapi       -20.0 -15000000.0  300000000.0\n",
      "Total               -           -           -  362950000.0\n",
      "Nama item Kambing telah diubah menjadi Kambing Ettawa.\n"
     ]
    }
   ],
   "source": [
    "#Tes 8: update_item_name()\n",
    "id_1.update_item_name(\"Kambing\", \"Kambing Ettawa\")"
   ]
  },
  {
   "cell_type": "code",
   "execution_count": 13,
   "id": "8eb79aa3",
   "metadata": {},
   "outputs": [
    {
     "name": "stdout",
     "output_type": "stream",
     "text": [
      "            Nama item Jumlah item  Harga item  Total harga\n",
      "1        Ayam Kampung        20.0     85000.0    1700000.0\n",
      "2      Kambing Ettawa        10.0   6000000.0   60000000.0\n",
      "3                Lele       500.0      2500.0    1250000.0\n",
      "4                Sapi        20.0 -15000000.0 -300000000.0\n",
      "Total               -           -           - -237050000.0\n",
      "Jumlah item Sapi telah diubah menjadi sebanyak 20.\n"
     ]
    }
   ],
   "source": [
    "#Tes 9: update_item_qty()\n",
    "id_1.update_item_qty(\"Sapi\", 20)"
   ]
  },
  {
   "cell_type": "code",
   "execution_count": 14,
   "id": "15b6e7e6",
   "metadata": {},
   "outputs": [
    {
     "name": "stdout",
     "output_type": "stream",
     "text": [
      "            Nama item Jumlah item  Harga item  Total harga\n",
      "1        Ayam Kampung        20.0     85000.0    1700000.0\n",
      "2      Kambing Ettawa        10.0   6000000.0   60000000.0\n",
      "3                Lele       500.0      2500.0    1250000.0\n",
      "4                Sapi        20.0  15000000.0  300000000.0\n",
      "Total               -           -           -  362950000.0\n",
      "Harga item Sapi telah diubah menjadi sebesar Rp. 15,000,000.\n",
      "\n",
      "Pesanan atas nama: Yudis\n",
      "Selamat! Pembeli a/n Yudis mendapat diskon sebesar 10%\n",
      "Jumlah harga belanja sebelum diskon sebesar: Rp. 362,950,000\n",
      "Besar nominal diskon yang didapat sebesar  : Rp. 36,295,000.0\n",
      "Harga setelah diskon menjadi sebesar       : Rp. 326,655,000.0\n"
     ]
    }
   ],
   "source": [
    "#Tes 10: total_price(), hapus/ganti nilai yang tidak wajar\n",
    "id_1.update_item_price(\"Sapi\", 15_000_000)\n",
    "\n",
    "id_1.total_price(\"Yudis\")"
   ]
  }
 ],
 "metadata": {
  "kernelspec": {
   "display_name": "Python 3 (ipykernel)",
   "language": "python",
   "name": "python3"
  },
  "language_info": {
   "codemirror_mode": {
    "name": "ipython",
    "version": 3
   },
   "file_extension": ".py",
   "mimetype": "text/x-python",
   "name": "python",
   "nbconvert_exporter": "python",
   "pygments_lexer": "ipython3",
   "version": "3.9.13"
  }
 },
 "nbformat": 4,
 "nbformat_minor": 5
}
